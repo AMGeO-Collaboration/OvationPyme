{
 "cells": [
  {
   "cell_type": "code",
   "execution_count": null,
   "metadata": {
    "collapsed": false
   },
   "outputs": [],
   "source": [
    "%pylab inline\n",
    "import numpy as np\n",
    "import matplotlib.pyplot as plt\n",
    "from ovationpyme.ovation_prime import SeasonalFluxEstimator,BinCorrector\n",
    "from ovationpyme.ovation_utilities import calc_avg_solarwind\n",
    "from ovationpyme.ovation_plotting import latlt2polar,polar2dial,pcolor_flux\n",
    "import ipywidgets\n",
    "from collections import OrderedDict\n",
    "from functools import partial\n",
    "\n",
    "seasons = ['winter','spring','summer','fall']\n",
    "auroral_types = ['diff','mono','wave','ions']\n",
    "flux_types = [\n",
    "                \"number\",\n",
    "                \"energy\"\n",
    "            ]\n",
    "\n",
    "def plot_seasonal_fluxes_callback(clicked_button,widgets):\n",
    "    f = plt.figure(figsize=(12,6),dpi=150)\n",
    "    axN = f.add_subplot(121,projection='polar')\n",
    "    axS = f.add_subplot(122,projection='polar')\n",
    "    season = widgets['season_select'].value\n",
    "    atype = widgets['atype_select'].value\n",
    "    jtype = widgets['jtype_select'].value\n",
    "    bincorrect = widgets['bincorrect_toggle'].value\n",
    "    year = widgets['year'].value\n",
    "    month = widgets['month'].value\n",
    "    day = widgets['day'].value\n",
    "    hour = widgets['hour'].value\n",
    "    minute = widgets['minute'].value\n",
    "    dt = datetime.datetime(year,month,day,hour,minute)\n",
    "    dtstr = dt.strftime('%Y%m%d %H:%M')\n",
    "    avg_sw = calc_avg_solarwind(dt)\n",
    "    estimator = SeasonalFluxEstimator(season,atype,jtype)\n",
    "    fluxtuple = estimator.get_gridded_flux(avg_sw['Ec'],combined_N_and_S=False)\n",
    "    mlatgridN,mltgridN,fluxgridN,mlatgridS,mltgridS,fluxgridS = fluxtuple\n",
    "    if bincorrect:\n",
    "        bcN = BinCorrector(mlatgridN,mltgridN)\n",
    "        fluxgridN = bcN.fix(fluxgridN)\n",
    "        bcS = BinCorrector(mlatgridS,mltgridS)\n",
    "        fluxgridS = bcS.fix(fluxgridS)\n",
    "        print(\"Correction Applied\")    \n",
    "    pcolor_kwargs = {'cmap':'viridis'}\n",
    "    manual_vmin = wgts['vmin_float'].value\n",
    "    if manual_vmin != -1.:\n",
    "        pcolor_kwargs['vmin']=manual_vmin\n",
    "    manual_vmax = wgts['vmax_float'].value\n",
    "    if manual_vmax != -1.:\n",
    "        pcolor_kwargs['vmax']=manual_vmax\n",
    "    mappableN = pcolor_flux(axN,mlatgridN,mltgridN,fluxgridN,'N',**pcolor_kwargs)\n",
    "    mappableS = pcolor_flux(axS,mlatgridS,mltgridS,fluxgridS,'S',**pcolor_kwargs)\n",
    "    f.colorbar(mappableN,ax=axN,label=jtype)\n",
    "    f.colorbar(mappableS,ax=axS,label=jtype)\n",
    "    axN.set_title('Northern Hemisphere')\n",
    "    axS.set_title('Southern Hemisphere')\n",
    "    polar2dial(axN)\n",
    "    polar2dial(axS)\n",
    "    f.suptitle(('Seasonal Flux %s, %s, %s' % (season,atype,jtype)\n",
    "                +'\\nNewell Coupling (%s): %f' % (dtstr,avg_sw['Ec'])))\n",
    "    plt.show()\n",
    "    \n",
    "\n",
    "wgts = OrderedDict()\n",
    "wgts['year']=ipywidgets.IntText(description='Year',value=2010)\n",
    "wgts['month']=ipywidgets.IntText(description='Month',value=5)\n",
    "wgts['day']=ipywidgets.IntText(description='Day',value=29)\n",
    "wgts['hour']=ipywidgets.IntText(description='Hour',value=12)\n",
    "wgts['minute']=ipywidgets.IntText(description='Minute',value=0)\n",
    "wgts['season_select']=ipywidgets.Dropdown(options=seasons,description='Season')\n",
    "wgts['atype_select']=ipywidgets.Dropdown(options=auroral_types,description='Type of Aurora')\n",
    "wgts['jtype_select']=ipywidgets.Dropdown(options=flux_types,description='Type of Flux')\n",
    "wgts['vmin_float']=ipywidgets.FloatText(description='Colorbar Min (-1 is Autoscale)',value=-1)\n",
    "wgts['vmax_float']=ipywidgets.FloatText(description='Colorbar Max (-1 is Autoscale)',value=-1)\n",
    "wgts['bincorrect_toggle']=ipywidgets.ToggleButton(description='Correction',value=False)\n",
    "wgts['run_button'] = ipywidgets.Button(description='Calculate')\n",
    "wgts['run_button'].on_click(partial(plot_seasonal_fluxes_callback,widgets=wgts))\n",
    "\n",
    "for widget_name,widget in wgts.items():\n",
    "    display(widget)"
   ]
  },
  {
   "cell_type": "code",
   "execution_count": null,
   "metadata": {
    "collapsed": true
   },
   "outputs": [],
   "source": []
  }
 ],
 "metadata": {
  "anaconda-cloud": {},
  "kernelspec": {
   "display_name": "Python 2",
   "language": "python",
   "name": "python2"
  },
  "language_info": {
   "codemirror_mode": {
    "name": "ipython",
    "version": 2
   },
   "file_extension": ".py",
   "mimetype": "text/x-python",
   "name": "python",
   "nbconvert_exporter": "python",
   "pygments_lexer": "ipython2",
   "version": "2.7.16"
  },
  "widgets": {
   "state": {
    "01f5753543c64af181e4bc750243aae2": {
     "views": [
      {
       "cell_index": 0
      }
     ]
    },
    "0ddc81ba604545ccab16b1b39c3edf21": {
     "views": [
      {
       "cell_index": 0
      }
     ]
    },
    "247d22a4584e44e4be2cc536d8309075": {
     "views": [
      {
       "cell_index": 0
      }
     ]
    },
    "2c3cc4fa3935447989e7d84858d2cd0b": {
     "views": [
      {
       "cell_index": 0
      }
     ]
    },
    "310a7049c2784da08201f13230786381": {
     "views": [
      {
       "cell_index": 0
      }
     ]
    },
    "316b01b78f6b45eeb8e0d7f00f83c046": {
     "views": [
      {
       "cell_index": 0
      }
     ]
    },
    "32066f818b194c78bdd9b1036380469a": {
     "views": [
      {
       "cell_index": 0
      }
     ]
    },
    "357e41ecc994461ea3d1f949ba892e2c": {
     "views": [
      {
       "cell_index": 0
      }
     ]
    },
    "3a36e679c31c4e4cb127286ca5dc9c1d": {
     "views": [
      {
       "cell_index": 0
      }
     ]
    },
    "3c95dc2672a04708954e0ccc7bd31307": {
     "views": [
      {
       "cell_index": 0
      }
     ]
    },
    "42529b87c2294fceb3a9172e2b81fde6": {
     "views": [
      {
       "cell_index": 0
      }
     ]
    },
    "4966430bd1ae49d783455667eef080d9": {
     "views": [
      {
       "cell_index": 0
      }
     ]
    },
    "51cc2742e7664672a8969e1a03382c51": {
     "views": [
      {
       "cell_index": 0
      }
     ]
    },
    "546758564a6b4a10aa3bc4e6704ec293": {
     "views": [
      {
       "cell_index": 0
      }
     ]
    },
    "5e89a949790c459991af8311ee72082d": {
     "views": [
      {
       "cell_index": 0
      }
     ]
    },
    "62a4d62650d54e75a7202efb4bc04b48": {
     "views": [
      {
       "cell_index": 0
      }
     ]
    },
    "63f0e2f82cb84ce58426da531d7b9258": {
     "views": [
      {
       "cell_index": 0
      }
     ]
    },
    "6657a67486e8404ea7efd63b5afa2b77": {
     "views": [
      {
       "cell_index": 0
      }
     ]
    },
    "69db5c60c11549fdae4d46770618b729": {
     "views": [
      {
       "cell_index": 0
      }
     ]
    },
    "700c510836da4e6cbb793386e003c706": {
     "views": [
      {
       "cell_index": 0
      }
     ]
    },
    "76d1c843641d4932aef5d53899c6f1c7": {
     "views": [
      {
       "cell_index": 0
      }
     ]
    },
    "7acc896e0ec64fc7b8aa6bc3c04f3319": {
     "views": [
      {
       "cell_index": 0
      }
     ]
    },
    "7ede9b7f68a84661aa9e65b152aecccf": {
     "views": [
      {
       "cell_index": 0
      }
     ]
    },
    "85445328fefd48d5a42c8c60ffd0e7a3": {
     "views": [
      {
       "cell_index": 0
      }
     ]
    },
    "88a9c486ba76478ebae78914b50342a7": {
     "views": [
      {
       "cell_index": 0
      }
     ]
    },
    "8e0e2c9a58d347a6b070b4e655ed6b13": {
     "views": [
      {
       "cell_index": 0
      }
     ]
    },
    "8f313ac54f5d4ac9aa338f201f1107ca": {
     "views": [
      {
       "cell_index": 0
      }
     ]
    },
    "8faf3d2c46734e83aa5b4fbb7e9ace6a": {
     "views": [
      {
       "cell_index": 0
      }
     ]
    },
    "92a8bab1b8114dbf8e1d0c710dd8b395": {
     "views": [
      {
       "cell_index": 0
      }
     ]
    },
    "92c325d7d59c40b3bde627f43f25c6d8": {
     "views": [
      {
       "cell_index": 0
      }
     ]
    },
    "98adfd1de0af4c23a610f780729bd480": {
     "views": [
      {
       "cell_index": 0
      }
     ]
    },
    "9a4b98fe81164baa9cf029554d46b047": {
     "views": [
      {
       "cell_index": 0
      }
     ]
    },
    "a1b6cfa109d044d3a67461f7de0287d0": {
     "views": [
      {
       "cell_index": 0
      }
     ]
    },
    "a445ea4032814d4c9f8aa32f886e7bf9": {
     "views": [
      {
       "cell_index": 0
      }
     ]
    },
    "a65709b608d24bc3ab927acb235ca6b0": {
     "views": [
      {
       "cell_index": 0
      }
     ]
    },
    "ab9fd37611e344a5b2576f0adeb89bb2": {
     "views": [
      {
       "cell_index": 0
      }
     ]
    },
    "ad9022f88ad24d06833257228394d612": {
     "views": [
      {
       "cell_index": 0
      }
     ]
    },
    "afeae558607c4a76a5118a82286d4ec6": {
     "views": [
      {
       "cell_index": 0
      }
     ]
    },
    "b4b99cf8321d4acabb40b58194ac9766": {
     "views": [
      {
       "cell_index": 0
      }
     ]
    },
    "bbd70eec1db643188bb21d9e1a1bf1e2": {
     "views": [
      {
       "cell_index": 0
      }
     ]
    },
    "c394876f7146477987ee75f1d9cb24fc": {
     "views": [
      {
       "cell_index": 0
      }
     ]
    },
    "c406747aa0a443fd804eecf84ac1c06d": {
     "views": [
      {
       "cell_index": 0
      }
     ]
    },
    "c66119dad15c463aaf36805755ca2e66": {
     "views": [
      {
       "cell_index": 0
      }
     ]
    },
    "c83f27289bc64ba6bcb0a272cc7b80e3": {
     "views": [
      {
       "cell_index": 0
      }
     ]
    },
    "c9dd10606e3d49b499ce58768fe08f78": {
     "views": [
      {
       "cell_index": 0
      }
     ]
    },
    "cadd1e0323e342cebb8fc4d8cfe96cc5": {
     "views": [
      {
       "cell_index": 0
      }
     ]
    },
    "cf49743d6e8447aab6afe941761d321b": {
     "views": [
      {
       "cell_index": 0
      }
     ]
    },
    "d30b4874eb7e4c3db9d3d4d461d9de4e": {
     "views": [
      {
       "cell_index": 0
      }
     ]
    },
    "d3c75d93fa1a451781559939cbad2596": {
     "views": [
      {
       "cell_index": 0
      }
     ]
    },
    "d500b40e2d0b466f928d9af08f43bf07": {
     "views": [
      {
       "cell_index": 0
      }
     ]
    },
    "d884815c134d49f5ad1f3f5a6a945fc8": {
     "views": [
      {
       "cell_index": 0
      }
     ]
    },
    "dab8f39bb84043ae8948d88fe461ac8d": {
     "views": [
      {
       "cell_index": 0
      }
     ]
    },
    "e218e4933f834648bd3212a1a06931b0": {
     "views": [
      {
       "cell_index": 0
      }
     ]
    },
    "e4e756f8e66c4ee5abcb4748a05d76ee": {
     "views": [
      {
       "cell_index": 0
      }
     ]
    },
    "e619b2f3532f4f19bf83ba68a9a1d9fb": {
     "views": [
      {
       "cell_index": 0
      }
     ]
    },
    "e988bd4617c249ed8ed80c3c0c16c6e1": {
     "views": [
      {
       "cell_index": 0
      }
     ]
    },
    "f280a3440451455799cf8fe243c4f23a": {
     "views": [
      {
       "cell_index": 0
      }
     ]
    },
    "f82ff65674164c148ab39488dfb40ada": {
     "views": [
      {
       "cell_index": 0
      }
     ]
    },
    "f8ac36bc671644b4aa4555e76b1d8a87": {
     "views": [
      {
       "cell_index": 0
      }
     ]
    },
    "ff4062bcf8a3469c844800f24ea0caee": {
     "views": [
      {
       "cell_index": 0
      }
     ]
    }
   },
   "version": "1.2.0"
  }
 },
 "nbformat": 4,
 "nbformat_minor": 1
}
