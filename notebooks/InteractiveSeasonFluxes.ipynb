{
 "cells": [
  {
   "cell_type": "code",
   "execution_count": null,
   "metadata": {
    "collapsed": false
   },
   "outputs": [],
   "source": [
    "%pylab inline\n",
    "import numpy as np\n",
    "import matplotlib.pyplot as plt\n",
    "from ovationpyme.ovation_prime import SeasonalFluxEstimator,BinCorrector\n",
    "from ovationpyme.ovation_utilities import calc_avg_solarwind\n",
    "import ipywidgets\n",
    "from collections import OrderedDict\n",
    "from functools import partial\n",
    "\n",
    "seasons = ['winter','spring','summer','fall']\n",
    "auroral_types = ['diff','mono','wave','ions']\n",
    "flux_types = [\n",
    "                \"electron energy flux\",\n",
    "                \"ion energy flux\",\n",
    "                \"electron number flux\",\n",
    "                \"ion number flux\",\n",
    "                \"electron average energy\",\n",
    "                \"ion average energy\"\n",
    "            ]\n",
    "\n",
    "def latlt2polar(lat,lt,hemisphere):\n",
    "    \"\"\"\n",
    "    Converts an array of latitude and lt points to polar for a top-down dialplot (latitude in degrees, LT in hours)\n",
    "    i.e. makes latitude the radial quantity and MLT the azimuthal \n",
    "\n",
    "    get the radial displacement (referenced to down from northern pole if we want to do a top down on the north, \n",
    "    or up from south pole if visa-versa)\n",
    "    \"\"\"\n",
    "    from numpy import pi\n",
    "    if hemisphere=='N':\n",
    "        r = 90.-lat\n",
    "    elif hemisphere=='S':\n",
    "        r = 90.-(-1*lat)\n",
    "    else:\n",
    "        raise ValueError('%s is not a valid hemisphere, N or S, please!' % (hemisphere))\n",
    "    #convert lt to theta (azimuthal angle) in radians\n",
    "    theta = lt/24. * 2*pi\n",
    "\n",
    "    #the pi/2 rotates the coordinate system from\n",
    "    #theta=0 at negative y-axis (local time) to\n",
    "    #theta=0 at positive x axis (traditional polar coordinates)\n",
    "    return r,theta\n",
    "\n",
    "def polar2dial(ax):\n",
    "    \"\"\"\n",
    "    Turns a matplotlib axes polar plot into a dial plot\n",
    "    \"\"\"\n",
    "    #Rotate the plot so that noon is at the top and midnight\n",
    "    #is at the bottom, and fix the labels so radial direction\n",
    "    #is latitude and azimuthal direction is local time in hours\n",
    "    ax.set_theta_zero_location('S')\n",
    "    theta_label_values = np.array([0.,3.,6.,9.,12.,15.,18.,21.])*180./12\n",
    "    theta_labels = ['%d:00' % (int(th/180.*12)) for th in theta_label_values.flatten().tolist()]\n",
    "    ax.set_thetagrids(theta_label_values,labels=theta_labels)\n",
    "\n",
    "    r_label_values = 90.-np.array([80.,70.,60.,50.])\n",
    "    r_labels = [r'$%d^{o}$' % (int(90.-rv)) for rv in r_label_values.flatten().tolist()]\n",
    "    ax.set_rgrids(r_label_values,labels=r_labels)\n",
    "    ax.set_rlim([0.,40.])\n",
    "\n",
    "def pcolor_flux(ax,mlatgrid,mltgrid,fluxgrid,hemisphere,**pcolor_kwargs):\n",
    "    mlats,mlts = mlatgrid.flatten(),mltgrid.flatten()\n",
    "    flux = fluxgrid.flatten()\n",
    "    if 'vmin' not in pcolor_kwargs:\n",
    "        pcolor_kwargs['vmin'] = np.nanpercentile(flux,5)\n",
    "    if 'vmax' not in pcolor_kwargs:\n",
    "        pcolor_kwargs['vmax'] = np.nanpercentile(flux,95)\n",
    "    r,theta = latlt2polar(mlats,mlts,hemisphere)\n",
    "    rgrid = r.reshape(mlatgrid.shape)\n",
    "    thetagrid = theta.reshape(mltgrid.shape)\n",
    "    mappable = ax.pcolormesh(thetagrid,rgrid,fluxgrid,**pcolor_kwargs)\n",
    "    return mappable\n",
    "\n",
    "def plot_seasonal_fluxes_callback(clicked_button,widgets):\n",
    "    f = plt.figure(figsize=(12,6),dpi=150)\n",
    "    axN = f.add_subplot(121,projection='polar')\n",
    "    axS = f.add_subplot(122,projection='polar')\n",
    "    season = widgets['season_select'].value\n",
    "    atype = widgets['atype_select'].value\n",
    "    jtype = widgets['jtype_select'].value\n",
    "    bincorrect = widgets['bincorrect_toggle'].value\n",
    "    year = widgets['year'].value\n",
    "    month = widgets['month'].value\n",
    "    day = widgets['day'].value\n",
    "    hour = widgets['hour'].value\n",
    "    minute = widgets['minute'].value\n",
    "    dt = datetime.datetime(year,month,day,hour,minute)\n",
    "    avg_sw = calc_avg_solarwind(dt)\n",
    "    estimator = SeasonalFluxEstimator(season,atype,jtype)\n",
    "    fluxtuple = estimator.get_gridded_flux(avg_sw['Ec'],combined_N_and_S=False)\n",
    "    mlatgridN,mltgridN,fluxgridN,mlatgridS,mltgridS,fluxgridS = fluxtuple\n",
    "    if bincorrect:\n",
    "        bcN = BinCorrector(mlatgridN,mltgridN)\n",
    "        fluxgridN = bcN.fix(fluxgridN)\n",
    "        bcS = BinCorrector(mlatgridS,mltgridS)\n",
    "        fluxgridS = bcS.fix(fluxgridS)\n",
    "        print(\"Correction Applied\")    \n",
    "    pcolor_kwargs = {'cmap':'viridis'}\n",
    "    manual_vmin = wgts['vmin_float'].value\n",
    "    if manual_vmin != -1.:\n",
    "        pcolor_kwargs['vmin']=manual_vmin\n",
    "    manual_vmax = wgts['vmax_float'].value\n",
    "    if manual_vmax != -1.:\n",
    "        pcolor_kwargs['vmax']=manual_vmax\n",
    "    mappableN = pcolor_flux(axN,mlatgridN,mltgridN,fluxgridN,'N',**pcolor_kwargs)\n",
    "    mappableS = pcolor_flux(axS,mlatgridS,mltgridS,fluxgridS,'S',**pcolor_kwargs)\n",
    "    f.colorbar(mappableN,ax=axN,label=jtype)\n",
    "    f.colorbar(mappableS,ax=axS,label=jtype)\n",
    "    axN.set_title('Northern Hemisphere')\n",
    "    axS.set_title('Southern Hemisphere')\n",
    "    polar2dial(axN)\n",
    "    polar2dial(axS)\n",
    "    f.suptitle('Seasonal Flux %s, %s, %s\\nNewell Coupling: %f' % (season,atype,jtype,avg_sw['Ec']))\n",
    "    plt.show()\n",
    "    \n",
    "\n",
    "wgts = OrderedDict()\n",
    "wgts['year']=ipywidgets.IntText(description='Year',value=2010)\n",
    "wgts['month']=ipywidgets.IntText(description='Month',value=5)\n",
    "wgts['day']=ipywidgets.IntText(description='Day',value=29)\n",
    "wgts['hour']=ipywidgets.IntText(description='Hour',value=12)\n",
    "wgts['minute']=ipywidgets.IntText(description='Minute',value=0)\n",
    "wgts['season_select']=ipywidgets.Dropdown(options=seasons,description='Season')\n",
    "wgts['atype_select']=ipywidgets.Dropdown(options=auroral_types,description='Type of Aurora')\n",
    "wgts['jtype_select']=ipywidgets.Dropdown(options=flux_types,description='Type of Flux')\n",
    "wgts['vmin_float']=ipywidgets.FloatText(description='Colorbar Min (-1 is Autoscale)',value=-1)\n",
    "wgts['vmax_float']=ipywidgets.FloatText(description='Colorbar Max (-1 is Autoscale)',value=-1)\n",
    "wgts['bincorrect_toggle']=ipywidgets.ToggleButton(description='Correction',value=False)\n",
    "wgts['run_button'] = ipywidgets.Button(description='Calculate')\n",
    "wgts['run_button'].on_click(partial(plot_seasonal_fluxes_callback,widgets=wgts))\n",
    "\n",
    "for widget_name,widget in wgts.iteritems():\n",
    "    display(widget)"
   ]
  },
  {
   "cell_type": "code",
   "execution_count": null,
   "metadata": {
    "collapsed": true
   },
   "outputs": [],
   "source": []
  }
 ],
 "metadata": {
  "anaconda-cloud": {},
  "kernelspec": {
   "display_name": "Python [conda env:davitpy_latest]",
   "language": "python",
   "name": "conda-env-davitpy_latest-py"
  },
  "language_info": {
   "codemirror_mode": {
    "name": "ipython",
    "version": 2
   },
   "file_extension": ".py",
   "mimetype": "text/x-python",
   "name": "python",
   "nbconvert_exporter": "python",
   "pygments_lexer": "ipython2",
   "version": "2.7.13"
  },
  "widgets": {
   "state": {
    "0004fcfebf3047c0b1480e5c9281b85f": {
     "views": [
      {
       "cell_index": 0
      }
     ]
    },
    "01f9e316e4ae4aee940717ff935e9bb9": {
     "views": [
      {
       "cell_index": 0
      }
     ]
    },
    "06ee74c6d6414d15a4ec0341c0ed54fe": {
     "views": [
      {
       "cell_index": 0
      }
     ]
    },
    "090b08ba7bcc40828aa2528bd55d18c0": {
     "views": [
      {
       "cell_index": 0
      }
     ]
    },
    "0938314faddd4a86a2744b4aa2c4bff0": {
     "views": [
      {
       "cell_index": 0
      }
     ]
    },
    "0a51c297349b437aa47a8eff6eaa1ef1": {
     "views": [
      {
       "cell_index": 0
      }
     ]
    },
    "0b7dfaf9177443ef918cab5ca823d9ce": {
     "views": [
      {
       "cell_index": 0
      }
     ]
    },
    "0c8c3ce4dbab4d9badb007d113092b5d": {
     "views": [
      {
       "cell_index": 0
      }
     ]
    },
    "0d40086b1285479bac21bc276e3844ab": {
     "views": [
      {
       "cell_index": 0
      }
     ]
    },
    "0d43542f107c40019bd13bb82b3b7a12": {
     "views": [
      {
       "cell_index": 0
      }
     ]
    },
    "0d52ba73e87d44459ba85ea31e3691a8": {
     "views": [
      {
       "cell_index": 0
      }
     ]
    },
    "0f79031752124e7bb9a5126811153b77": {
     "views": [
      {
       "cell_index": 0
      }
     ]
    },
    "0fdcb778427c4d108a269bcbe76bd889": {
     "views": [
      {
       "cell_index": 0
      }
     ]
    },
    "1006c7b825c8468890e9cb38cbe48e79": {
     "views": [
      {
       "cell_index": 0
      }
     ]
    },
    "10e1374412a144b198208aa772565046": {
     "views": [
      {
       "cell_index": 0
      }
     ]
    },
    "115c647c98a144d7b77b386cc2a177ad": {
     "views": [
      {
       "cell_index": 0
      }
     ]
    },
    "12b27180acf448f08e4950a830dfcb1e": {
     "views": [
      {
       "cell_index": 0
      }
     ]
    },
    "12fe2951cd0c41538d4d4eac97e09a9c": {
     "views": [
      {
       "cell_index": 0
      }
     ]
    },
    "132018e5737940cd9305a097ba9e0153": {
     "views": [
      {
       "cell_index": 0
      }
     ]
    },
    "152d29c736ba4c249e951ca3c429366b": {
     "views": [
      {
       "cell_index": 0
      }
     ]
    },
    "16155b9602c8488f9fbf2a4d14d6fbc9": {
     "views": [
      {
       "cell_index": 0
      }
     ]
    },
    "162a96614fa5404ea0c4ca54f5bb9186": {
     "views": [
      {
       "cell_index": 0
      }
     ]
    },
    "163dbcfd13bc421eb89b9b89a6e3c2c9": {
     "views": [
      {
       "cell_index": 0
      }
     ]
    },
    "16751a62912c47c081596188ac3d5ac3": {
     "views": [
      {
       "cell_index": 0
      }
     ]
    },
    "167934e9bb3d4d7bb3f3401e9e999be1": {
     "views": [
      {
       "cell_index": 0
      }
     ]
    },
    "17b8408c69db4ce0a87b961256e51200": {
     "views": [
      {
       "cell_index": 0
      }
     ]
    },
    "18884225ff4c45829b6039197a4448a1": {
     "views": [
      {
       "cell_index": 0
      }
     ]
    },
    "1989a163b6734717bb6abdcbb7eb04c1": {
     "views": [
      {
       "cell_index": 0
      }
     ]
    },
    "1a1cffa473aa435f987386d7fff8470b": {
     "views": [
      {
       "cell_index": 0
      }
     ]
    },
    "1bce002b43974d2b84b6ec3709fc07bf": {
     "views": [
      {
       "cell_index": 0
      }
     ]
    },
    "20bfc31825264626927ba18175566184": {
     "views": [
      {
       "cell_index": 0
      }
     ]
    },
    "216d332343b84b5fbd7839fd681b639d": {
     "views": [
      {
       "cell_index": 0
      }
     ]
    },
    "21738bb7e25942258f6d65dcd36ee17f": {
     "views": [
      {
       "cell_index": 0
      }
     ]
    },
    "22d6ac914f8f437ebdde558137f0c8a6": {
     "views": [
      {
       "cell_index": 0
      }
     ]
    },
    "230fa6b41eb541c9b2d22aeb13d5de3a": {
     "views": [
      {
       "cell_index": 0
      }
     ]
    },
    "25894913f4114adca200f944cfd71575": {
     "views": [
      {
       "cell_index": 0
      }
     ]
    },
    "25fe00719be04da99302fa8c3b04f561": {
     "views": [
      {
       "cell_index": 0
      }
     ]
    },
    "272278cf0b8145a3b68245b3e4402842": {
     "views": [
      {
       "cell_index": 0
      }
     ]
    },
    "28f70a51b3d74b6f80bcae9322c00e79": {
     "views": [
      {
       "cell_index": 0
      }
     ]
    },
    "2a40ff9b080a47f4ba5493e4006aa3c1": {
     "views": [
      {
       "cell_index": 0
      }
     ]
    },
    "2c575a7ba6f84fec86edfa27ec0b9b1c": {
     "views": [
      {
       "cell_index": 0
      }
     ]
    },
    "2e89b3f6303c4e2cb78946097c0cfdd8": {
     "views": [
      {
       "cell_index": 0
      }
     ]
    },
    "2ee57308ddf848b2b42c973c924d14c0": {
     "views": [
      {
       "cell_index": 0
      }
     ]
    },
    "2fdea1d015db4067856c6d6af2d25e94": {
     "views": [
      {
       "cell_index": 0
      }
     ]
    },
    "30ee0812f8d842768abe5c0161864aa6": {
     "views": [
      {
       "cell_index": 0
      }
     ]
    },
    "31ce4fcd7e814341a002f52e8c9d7af2": {
     "views": [
      {
       "cell_index": 0
      }
     ]
    },
    "32bee0fefe9b463db4e0e307c96a4343": {
     "views": [
      {
       "cell_index": 0
      }
     ]
    },
    "32d1ce81366b4e8b9a8ca882fbc961c3": {
     "views": [
      {
       "cell_index": 0
      }
     ]
    },
    "3521106028254402a2122621812c135d": {
     "views": [
      {
       "cell_index": 0
      }
     ]
    },
    "35a4a70f8f0d4815a8499ffda7395d77": {
     "views": [
      {
       "cell_index": 0
      }
     ]
    },
    "36ed19db173a471f8e6688ccc0aa304f": {
     "views": [
      {
       "cell_index": 0
      }
     ]
    },
    "37e06f43631846468eecf9ffe64b0f77": {
     "views": [
      {
       "cell_index": 0
      }
     ]
    },
    "38091369cea74d098ad27febbc70242b": {
     "views": [
      {
       "cell_index": 0
      }
     ]
    },
    "391a666902ad4431af19eedbac9818d7": {
     "views": [
      {
       "cell_index": 0
      }
     ]
    },
    "39354cca35a24acb8cf81208f7c51daf": {
     "views": [
      {
       "cell_index": 0
      }
     ]
    },
    "3a4c0a3d367a4eea8e51245ab92c3520": {
     "views": [
      {
       "cell_index": 0
      }
     ]
    },
    "3b91925253564b5380f92f81b761a791": {
     "views": [
      {
       "cell_index": 0
      }
     ]
    },
    "3d2d8fe78f3b486580e9ebdfa45e7de5": {
     "views": [
      {
       "cell_index": 0
      }
     ]
    },
    "3dd88481993a4eff8bb547b25de25d2a": {
     "views": [
      {
       "cell_index": 0
      }
     ]
    },
    "3debaac6996247eea2b4a3588726036b": {
     "views": [
      {
       "cell_index": 0
      }
     ]
    },
    "3e296139fbf449798bef48c97127f1b4": {
     "views": [
      {
       "cell_index": 0
      }
     ]
    },
    "3e976c1d64554a8aa6d74b0c16a6e2bc": {
     "views": [
      {
       "cell_index": 0
      }
     ]
    },
    "402ec4422adf4cb7b320e78c8add8f02": {
     "views": [
      {
       "cell_index": 0
      }
     ]
    },
    "41d71e0b414148f4943ca5a972ed7362": {
     "views": [
      {
       "cell_index": 0
      }
     ]
    },
    "41ef773e4d7c408585c34ad881e650f9": {
     "views": [
      {
       "cell_index": 0
      }
     ]
    },
    "44590ca5f4f440e48bf68cdd8ca29bee": {
     "views": [
      {
       "cell_index": 0
      }
     ]
    },
    "446da0f8378b49f0b0b7cecb6daa8664": {
     "views": [
      {
       "cell_index": 0
      }
     ]
    },
    "44dc07c37bf244de8abd2ca282c6b525": {
     "views": [
      {
       "cell_index": 0
      }
     ]
    },
    "4589dfd43cf2433498f78c0ef3460780": {
     "views": [
      {
       "cell_index": 0
      }
     ]
    },
    "45f8413b2e544212ab68cbcf282232ff": {
     "views": [
      {
       "cell_index": 0
      }
     ]
    },
    "466673013b1d4d7dbc9e0e38aad21996": {
     "views": [
      {
       "cell_index": 0
      }
     ]
    },
    "471a0ef8ab234b2a970e4dfed6764d60": {
     "views": [
      {
       "cell_index": 0
      }
     ]
    },
    "481e6106d9b24e8fb69af6308a85429b": {
     "views": [
      {
       "cell_index": 0
      }
     ]
    },
    "4963452e52f54fc6aeda03a8100987b5": {
     "views": [
      {
       "cell_index": 0
      }
     ]
    },
    "496e5f9093b748efac10e31d87e629e8": {
     "views": [
      {
       "cell_index": 0
      }
     ]
    },
    "4d4eb2ce349d4a1d97821df5fb329290": {
     "views": [
      {
       "cell_index": 0
      }
     ]
    },
    "4ed9931ab2b742959790b27b34291be0": {
     "views": [
      {
       "cell_index": 0
      }
     ]
    },
    "4f1a6bff7e4542f69c3107fe20954a36": {
     "views": [
      {
       "cell_index": 0
      }
     ]
    },
    "4ff7712b27d64eb2bf95be999565cc2d": {
     "views": [
      {
       "cell_index": 0
      }
     ]
    },
    "50121bf5716d416f8b737e109476ebdd": {
     "views": [
      {
       "cell_index": 0
      }
     ]
    },
    "50ef7de1e4e9469697f4d70493fb54f3": {
     "views": [
      {
       "cell_index": 0
      }
     ]
    },
    "51d1520cda024d54b95c0e0903e05e0a": {
     "views": [
      {
       "cell_index": 0
      }
     ]
    },
    "52c81993da764ae9ae0f48ab494df8c2": {
     "views": [
      {
       "cell_index": 0
      }
     ]
    },
    "53bc35529a9846a39941eb642a6535bd": {
     "views": [
      {
       "cell_index": 0
      }
     ]
    },
    "5487fe7c2e0d4b0b92f5a0259f6213e7": {
     "views": [
      {
       "cell_index": 0
      }
     ]
    },
    "5660ab0967044ce398fb1adcc04f13aa": {
     "views": [
      {
       "cell_index": 0
      }
     ]
    },
    "568539c779504ae18172f6363337df5b": {
     "views": [
      {
       "cell_index": 0
      }
     ]
    },
    "57efa1c1564d471eadeb8649decd84f2": {
     "views": [
      {
       "cell_index": 0
      }
     ]
    },
    "598a6319751c44f3a34484b602279bf7": {
     "views": [
      {
       "cell_index": 0
      }
     ]
    },
    "5a1b60933c6a4ea4a8425592b0420897": {
     "views": [
      {
       "cell_index": 0
      }
     ]
    },
    "5a5b5a0badd34c6ab86dc6b8225ca43d": {
     "views": [
      {
       "cell_index": 0
      }
     ]
    },
    "5bb2f322f1c64d8e8cd8b0ed20b80d08": {
     "views": [
      {
       "cell_index": 0
      }
     ]
    },
    "5d0f351ce9bb46938ee91b7fa9490c3b": {
     "views": [
      {
       "cell_index": 0
      }
     ]
    },
    "5d6ddc96975441649094d353c2c19994": {
     "views": [
      {
       "cell_index": 0
      }
     ]
    },
    "5f2547d38b904644a85b0627fb831651": {
     "views": [
      {
       "cell_index": 0
      }
     ]
    },
    "5fcf88d9dfa94c9582dac1a6acbf3803": {
     "views": [
      {
       "cell_index": 0
      }
     ]
    },
    "6131e05f802c45c99078a6e28d01fab7": {
     "views": [
      {
       "cell_index": 0
      }
     ]
    },
    "62143b42385b4485930cc7af2da13237": {
     "views": [
      {
       "cell_index": 0
      }
     ]
    },
    "627dfa630a2a402981a936651fa06608": {
     "views": [
      {
       "cell_index": 0
      }
     ]
    },
    "6331cf0e2ff149d79ce249a0faa2a8ce": {
     "views": [
      {
       "cell_index": 0
      }
     ]
    },
    "6508189e621b40bdb5ceadcd371003f7": {
     "views": [
      {
       "cell_index": 0
      }
     ]
    },
    "65ae2237f44142c18f785df1b03baa1d": {
     "views": [
      {
       "cell_index": 0
      }
     ]
    },
    "65d5b6519be9440a9ce870348e3f5349": {
     "views": [
      {
       "cell_index": 0
      }
     ]
    },
    "692b46efb50c4ff1b7a917805f42392b": {
     "views": [
      {
       "cell_index": 0
      }
     ]
    },
    "6a6dced81b0242269fba9b6dc4cdda9c": {
     "views": [
      {
       "cell_index": 0
      }
     ]
    },
    "6de2f4d9544b45d69ecafb1cc0f32411": {
     "views": [
      {
       "cell_index": 0
      }
     ]
    },
    "6f39dcc2e7e54b44b4ac0dd49078a817": {
     "views": [
      {
       "cell_index": 0
      }
     ]
    },
    "70722eb01d204a2ab7910fcdea2b0115": {
     "views": [
      {
       "cell_index": 0
      }
     ]
    },
    "70e34ff7ada14c1a959ac3683f1ace57": {
     "views": [
      {
       "cell_index": 0
      }
     ]
    },
    "71805e9d29c64d88bc0997dba23c4d13": {
     "views": [
      {
       "cell_index": 0
      }
     ]
    },
    "71cd058521124f20acb06d8efa18f776": {
     "views": [
      {
       "cell_index": 0
      }
     ]
    },
    "71fdd1278fc540038946451d52ec58a3": {
     "views": [
      {
       "cell_index": 0
      }
     ]
    },
    "7252b258266d473983e4aa5a498476b1": {
     "views": [
      {
       "cell_index": 0
      }
     ]
    },
    "72c53834edb748278e0061fd973c8b27": {
     "views": [
      {
       "cell_index": 0
      }
     ]
    },
    "7406dcf5ea8446f3bf464ca52f570c99": {
     "views": [
      {
       "cell_index": 0
      }
     ]
    },
    "74447df180114b258f81c3fcbcbecb37": {
     "views": [
      {
       "cell_index": 0
      }
     ]
    },
    "752573634ed94b6da2ca1a495d848081": {
     "views": [
      {
       "cell_index": 0
      }
     ]
    },
    "75b6a7f65b6c45889b1b16610a34eef1": {
     "views": [
      {
       "cell_index": 0
      }
     ]
    },
    "763e3b6fe1184a49829d24dc36e78ca6": {
     "views": [
      {
       "cell_index": 0
      }
     ]
    },
    "772be43cb6f84360ac985ff66d52342f": {
     "views": [
      {
       "cell_index": 0
      }
     ]
    },
    "776969092a9a4026a11aa9666b9df906": {
     "views": [
      {
       "cell_index": 0
      }
     ]
    },
    "7787c53e00d941a8860542445d6f93af": {
     "views": [
      {
       "cell_index": 0
      }
     ]
    },
    "778e77973d83496e877dc181dbbcc88c": {
     "views": [
      {
       "cell_index": 0
      }
     ]
    },
    "78720bef39c04b06979cab7bec3b6c94": {
     "views": [
      {
       "cell_index": 0
      }
     ]
    },
    "78ccb428bccd4c3baa846538e2f848e3": {
     "views": [
      {
       "cell_index": 0
      }
     ]
    },
    "7bd71e153f4e4748a5b8403a4e9698c9": {
     "views": [
      {
       "cell_index": 0
      }
     ]
    },
    "7bea0c91a85c4835a19c8bbbfda3c67f": {
     "views": [
      {
       "cell_index": 0
      }
     ]
    },
    "7cc726a52d8544f5afb365a0bf644c86": {
     "views": [
      {
       "cell_index": 0
      }
     ]
    },
    "7e21250247694d5ab19b8c001d23bbe7": {
     "views": [
      {
       "cell_index": 0
      }
     ]
    },
    "7f05f4fb820b4d7eb3fdf41912f06e3c": {
     "views": [
      {
       "cell_index": 0
      }
     ]
    },
    "813171339aeb484f8b5379114e3be46a": {
     "views": [
      {
       "cell_index": 0
      }
     ]
    },
    "821083ba19304c6cba37803ea35be74e": {
     "views": [
      {
       "cell_index": 0
      }
     ]
    },
    "82a9a5b609ad4e95b925576ed157ebdc": {
     "views": [
      {
       "cell_index": 0
      }
     ]
    },
    "83b0cd93eaea43c0b5c7d869ea268ccf": {
     "views": [
      {
       "cell_index": 0
      }
     ]
    },
    "85c8719730e045feb43529c847d954b2": {
     "views": [
      {
       "cell_index": 0
      }
     ]
    },
    "88323c404d754d60a7677f02db038410": {
     "views": [
      {
       "cell_index": 0
      }
     ]
    },
    "886e7314e0544a97a7ae04b3026a92ed": {
     "views": [
      {
       "cell_index": 0
      }
     ]
    },
    "88c486fb374646be93b1659dbcc6db11": {
     "views": [
      {
       "cell_index": 0
      }
     ]
    },
    "8937e85de246486486bfd5ea6dc73892": {
     "views": [
      {
       "cell_index": 0
      }
     ]
    },
    "8962510469e94d4c99f97b5fcd84a8ac": {
     "views": [
      {
       "cell_index": 0
      }
     ]
    },
    "89d3912fa4874282b62fceb57b5fe12c": {
     "views": [
      {
       "cell_index": 0
      }
     ]
    },
    "8b578b1781af419dbf12abc4087d9197": {
     "views": [
      {
       "cell_index": 0
      }
     ]
    },
    "8dd107c348f64fc0a36ff7b8329e0dad": {
     "views": [
      {
       "cell_index": 0
      }
     ]
    },
    "8de3c291742d430a84065cbffd40611f": {
     "views": [
      {
       "cell_index": 0
      }
     ]
    },
    "8f00f4cc847249258f3acafa96c67822": {
     "views": [
      {
       "cell_index": 0
      }
     ]
    },
    "9149924a813a452fbad7201d25569878": {
     "views": [
      {
       "cell_index": 0
      }
     ]
    },
    "917170c8f3474f95a0793def1cf24e6f": {
     "views": [
      {
       "cell_index": 0
      }
     ]
    },
    "91f20590e40d4d659f129a2af5d2511d": {
     "views": [
      {
       "cell_index": 0
      }
     ]
    },
    "92fa0c2453f74d6fb99eb3124d1febc0": {
     "views": [
      {
       "cell_index": 0
      }
     ]
    },
    "9385071abcb24afb9df0c1bc5e0973c3": {
     "views": [
      {
       "cell_index": 0
      }
     ]
    },
    "942f2e0cd071412bbd4828ecb43a3baa": {
     "views": [
      {
       "cell_index": 0
      }
     ]
    },
    "94f74b0754104d4e8f36bd1770921aef": {
     "views": [
      {
       "cell_index": 0
      }
     ]
    },
    "9525afb96dfa493db64fe273a9fc0bab": {
     "views": [
      {
       "cell_index": 0
      }
     ]
    },
    "9662539826924a66b8be02c59f3b2957": {
     "views": [
      {
       "cell_index": 0
      }
     ]
    },
    "971e502ea47648dbad156e38142b1673": {
     "views": [
      {
       "cell_index": 0
      }
     ]
    },
    "97618f6d633f46bc9907f8984153b204": {
     "views": [
      {
       "cell_index": 0
      }
     ]
    },
    "98586786a4e5442db9da05f97ed4f9ef": {
     "views": [
      {
       "cell_index": 0
      }
     ]
    },
    "986e3eb0634b4059bddcd1c7c50cf37c": {
     "views": [
      {
       "cell_index": 0
      }
     ]
    },
    "9871e1613d04489ab9e2fd8d4096acc5": {
     "views": [
      {
       "cell_index": 0
      }
     ]
    },
    "991e42204e9a4037a926a507c7f5c6e8": {
     "views": [
      {
       "cell_index": 0
      }
     ]
    },
    "9b361e1cd12d4b769ccdfaf1b9993275": {
     "views": [
      {
       "cell_index": 0
      }
     ]
    },
    "9cd8e5eb418d4cadb2c0c56930c1b0a1": {
     "views": [
      {
       "cell_index": 0
      }
     ]
    },
    "9d00e51381064d4daf6c2018791202f7": {
     "views": [
      {
       "cell_index": 0
      }
     ]
    },
    "9f5fd0e79c6f4a8cb39620d1f9a124e0": {
     "views": [
      {
       "cell_index": 0
      }
     ]
    },
    "9fae7496ab6345859f891e8bb2ebe77b": {
     "views": [
      {
       "cell_index": 0
      }
     ]
    },
    "9fcb3a78cca84e7ab4ef8b0086f27af3": {
     "views": [
      {
       "cell_index": 0
      }
     ]
    },
    "a04c5f5180614da0a7cab2973acff566": {
     "views": [
      {
       "cell_index": 0
      }
     ]
    },
    "a1cdde17b48346cfb3415ba3b754bd73": {
     "views": [
      {
       "cell_index": 0
      }
     ]
    },
    "a2bafe0ce60341d9bd666e9eff8741f9": {
     "views": [
      {
       "cell_index": 0
      }
     ]
    },
    "a32cf41cf76247b7a43e8c98fd096d42": {
     "views": [
      {
       "cell_index": 0
      }
     ]
    },
    "a43bd06b78874c7c9cc91ab79ae40cf4": {
     "views": [
      {
       "cell_index": 0
      }
     ]
    },
    "a50a5046306f4893afc42729434aa1ad": {
     "views": [
      {
       "cell_index": 0
      }
     ]
    },
    "a8ecf1ad32244a8480b0c70157382496": {
     "views": [
      {
       "cell_index": 0
      }
     ]
    },
    "a9dce0e72d2540b5a3bb2ff14b2f1aee": {
     "views": [
      {
       "cell_index": 0
      }
     ]
    },
    "aba79dd017964c9a8c9e1a389ed1ea6a": {
     "views": [
      {
       "cell_index": 0
      }
     ]
    },
    "accf124450074c0db6b93ebc455593b3": {
     "views": [
      {
       "cell_index": 0
      }
     ]
    },
    "afa865ac9bdc4f1b87c93fced9de2aa1": {
     "views": [
      {
       "cell_index": 0
      }
     ]
    },
    "b0153cf1f151433b873c93deabfa338f": {
     "views": [
      {
       "cell_index": 0
      }
     ]
    },
    "b05c04234011449ebce0e330999fc173": {
     "views": [
      {
       "cell_index": 0
      }
     ]
    },
    "b09721fc3d004050a0f80340623aba2e": {
     "views": [
      {
       "cell_index": 0
      }
     ]
    },
    "b16cef5d1358438f80c198815858facd": {
     "views": [
      {
       "cell_index": 0
      }
     ]
    },
    "b21a18fd6082433181cfc4da9a089ae3": {
     "views": [
      {
       "cell_index": 0
      }
     ]
    },
    "b55212da09084de089b22bd3568fb570": {
     "views": [
      {
       "cell_index": 0
      }
     ]
    },
    "b5adf72adec2401f9437da74306edde8": {
     "views": [
      {
       "cell_index": 0
      }
     ]
    },
    "b5fb3013e48f4f799a99514fb894d066": {
     "views": [
      {
       "cell_index": 0
      }
     ]
    },
    "b7054ff8b7784ae99b57719c27251e36": {
     "views": [
      {
       "cell_index": 0
      }
     ]
    },
    "b71864a16e2748179db90786b1e45eea": {
     "views": [
      {
       "cell_index": 0
      }
     ]
    },
    "b7a37fd831ab48c9bf35927245ec6927": {
     "views": [
      {
       "cell_index": 0
      }
     ]
    },
    "b81a6918f4c84ff4b6b1d07e707364a9": {
     "views": [
      {
       "cell_index": 0
      }
     ]
    },
    "b954d505a32f457089aae0e8350c4da4": {
     "views": [
      {
       "cell_index": 0
      }
     ]
    },
    "baa8f10551f44667a18c3b9d90284db7": {
     "views": [
      {
       "cell_index": 0
      }
     ]
    },
    "bb1acc80f25a48d28b67f16a2853e266": {
     "views": [
      {
       "cell_index": 0
      }
     ]
    },
    "bba4bdb625274905b031b184b67a0c8d": {
     "views": [
      {
       "cell_index": 0
      }
     ]
    },
    "bbdb1c69d2124368bcddf5472b8cf41d": {
     "views": [
      {
       "cell_index": 0
      }
     ]
    },
    "bdd4732f57b44d968c6d7490fbc73c3f": {
     "views": [
      {
       "cell_index": 0
      }
     ]
    },
    "bf0ccb203edb47e09de0826ce06a20ec": {
     "views": [
      {
       "cell_index": 0
      }
     ]
    },
    "bf25a15e3d0c4aa7a500ccdcaefacebe": {
     "views": [
      {
       "cell_index": 0
      }
     ]
    },
    "c0d854150c394c04b6a641d259460a0e": {
     "views": [
      {
       "cell_index": 0
      }
     ]
    },
    "c2b82916fdee4bd08a2202d46b5470de": {
     "views": [
      {
       "cell_index": 0
      }
     ]
    },
    "c38e806fdd4046728384fbcbbcb69d19": {
     "views": [
      {
       "cell_index": 0
      }
     ]
    },
    "c4edef9d9c634b84b5fae9ab164b2e34": {
     "views": [
      {
       "cell_index": 0
      }
     ]
    },
    "c6688d740bb94d9c9a0d7611177f221f": {
     "views": [
      {
       "cell_index": 0
      }
     ]
    },
    "c82b184c9a844e92ae3dfb6908fe81f8": {
     "views": [
      {
       "cell_index": 0
      }
     ]
    },
    "c9c69620234a43a9814617487b2145ed": {
     "views": [
      {
       "cell_index": 0
      }
     ]
    },
    "c9e99c59ef1444d8b777a7c0f94cbf55": {
     "views": [
      {
       "cell_index": 0
      }
     ]
    },
    "ca8102c75be84316aa78dad5210f70e1": {
     "views": [
      {
       "cell_index": 0
      }
     ]
    },
    "cd2a5b3b245c4b20bb9ea9301b357fe5": {
     "views": [
      {
       "cell_index": 0
      }
     ]
    },
    "d140d88d341d48c9a5c92b6dbcaa1b97": {
     "views": [
      {
       "cell_index": 0
      }
     ]
    },
    "d18661be72bc4cbc9b0b89c8d87251b0": {
     "views": [
      {
       "cell_index": 0
      }
     ]
    },
    "d1cfe62e398f4add86c54c23b715558d": {
     "views": [
      {
       "cell_index": 0
      }
     ]
    },
    "d29dcbd8a43a46baa5e46bf515f929f6": {
     "views": [
      {
       "cell_index": 0
      }
     ]
    },
    "d331f67eeaab4fa395dfe9382a56c790": {
     "views": [
      {
       "cell_index": 0
      }
     ]
    },
    "d36603b76fe4456890ace6d5bc14dacd": {
     "views": [
      {
       "cell_index": 0
      }
     ]
    },
    "d3acc95c8d4e4512afe7defb8e59d80a": {
     "views": [
      {
       "cell_index": 0
      }
     ]
    },
    "d6f686ce71744ce28f354f2c80252f2f": {
     "views": [
      {
       "cell_index": 0
      }
     ]
    },
    "d79daa085fb74ecea18a88004165b902": {
     "views": [
      {
       "cell_index": 0
      }
     ]
    },
    "d7b4c0b36d9e4dee883d425efc25772e": {
     "views": [
      {
       "cell_index": 0
      }
     ]
    },
    "d7d6c7471b8045b1960a8f9ad2b1220d": {
     "views": [
      {
       "cell_index": 0
      }
     ]
    },
    "d9f25c86da7942ec8d9984fed86084d2": {
     "views": [
      {
       "cell_index": 0
      }
     ]
    },
    "dabca8d2f25c422e8e2149168a4c2391": {
     "views": [
      {
       "cell_index": 0
      }
     ]
    },
    "dd43bf6cdab94b58a82cd5e3927e529d": {
     "views": [
      {
       "cell_index": 0
      }
     ]
    },
    "dd651613ac5249ee8ef0413a228ef1df": {
     "views": [
      {
       "cell_index": 0
      }
     ]
    },
    "dedc82b70b474aeab9bc693d15e6bd82": {
     "views": [
      {
       "cell_index": 0
      }
     ]
    },
    "e0cfb47dfd7645e187b1258c126a36e5": {
     "views": [
      {
       "cell_index": 0
      }
     ]
    },
    "e1984a0e406d404cb2d51c8ef2223cea": {
     "views": [
      {
       "cell_index": 0
      }
     ]
    },
    "e23dd6d5f6674c7e9cfef00164b247d5": {
     "views": [
      {
       "cell_index": 0
      }
     ]
    },
    "e3776df95c704141b66d0790050fe58f": {
     "views": [
      {
       "cell_index": 0
      }
     ]
    },
    "e41aa753b7e84bd8a6075c3f147cb442": {
     "views": [
      {
       "cell_index": 0
      }
     ]
    },
    "e443766262174ca4a1249067c57a0c3a": {
     "views": [
      {
       "cell_index": 0
      }
     ]
    },
    "e47f7fca47a14829a9c53986c9a62408": {
     "views": [
      {
       "cell_index": 0
      }
     ]
    },
    "e5c581b545c64a85ae543f863978aa6a": {
     "views": [
      {
       "cell_index": 0
      }
     ]
    },
    "e711e60369ad4679914fb24d0d8c97af": {
     "views": [
      {
       "cell_index": 0
      }
     ]
    },
    "e7da21d0edc64f5a924df4725677a514": {
     "views": [
      {
       "cell_index": 0
      }
     ]
    },
    "e8716b93810b4ef89ac7387115618eed": {
     "views": [
      {
       "cell_index": 0
      }
     ]
    },
    "e8aafe24dc88451485f659c0e68224ac": {
     "views": [
      {
       "cell_index": 0
      }
     ]
    },
    "e90f248df64c471c9f2054a623e84f90": {
     "views": [
      {
       "cell_index": 0
      }
     ]
    },
    "e95cf15e74eb4b0f992636a6ee5ad2f7": {
     "views": [
      {
       "cell_index": 0
      }
     ]
    },
    "ea0f3d79ad6f4c7997af43db00f0f423": {
     "views": [
      {
       "cell_index": 0
      }
     ]
    },
    "eb94409703ae4015ade3d0635fbcf2ec": {
     "views": [
      {
       "cell_index": 0
      }
     ]
    },
    "edeca0abb4d7489eb8ff6174d29f7491": {
     "views": [
      {
       "cell_index": 0
      }
     ]
    },
    "ef0d2b00926d408aa88b2c4d51e46d3f": {
     "views": [
      {
       "cell_index": 0
      }
     ]
    },
    "ef8670fb21044674b47038eddce31574": {
     "views": [
      {
       "cell_index": 0
      }
     ]
    },
    "ef8b143bade64fdaa3b47a8d1acc163f": {
     "views": [
      {
       "cell_index": 0
      }
     ]
    },
    "efad9b2efc704ab5b0d0240ab7f5d6d0": {
     "views": [
      {
       "cell_index": 0
      }
     ]
    },
    "f19881af1ea34c6293630aae3e6b3657": {
     "views": [
      {
       "cell_index": 0
      }
     ]
    },
    "f233ac9b0c9344219762abb0470df130": {
     "views": [
      {
       "cell_index": 0
      }
     ]
    },
    "f308cb1d53f045fab3355a8ebad4c52d": {
     "views": [
      {
       "cell_index": 0
      }
     ]
    },
    "f363bbed687b42dbbf1e23b88241ac39": {
     "views": [
      {
       "cell_index": 0
      }
     ]
    },
    "f3cb21b7fe554645aabf7770096c4694": {
     "views": [
      {
       "cell_index": 0
      }
     ]
    },
    "f423a41ecb3e48d99b9b04457746ec2c": {
     "views": [
      {
       "cell_index": 0
      }
     ]
    },
    "f4b6a407e7a74dc281009bf10257ac10": {
     "views": [
      {
       "cell_index": 0
      }
     ]
    },
    "f7418102fde34696a6819095dd772251": {
     "views": [
      {
       "cell_index": 0
      }
     ]
    },
    "f74f2fcdc3e441f7ae9eb24f940abced": {
     "views": [
      {
       "cell_index": 0
      }
     ]
    },
    "f773859251dd4daca1b8e2649851f2a4": {
     "views": [
      {
       "cell_index": 0
      }
     ]
    },
    "f774760696cc49429af6ddb84020e309": {
     "views": [
      {
       "cell_index": 0
      }
     ]
    },
    "fb828dcb013644049f9f53f49757b68f": {
     "views": [
      {
       "cell_index": 0
      }
     ]
    },
    "fcae4b9be02c438abc44dbd67c1294e2": {
     "views": [
      {
       "cell_index": 0
      }
     ]
    },
    "fd1c29f93d8e440b8a6fe622d1b59496": {
     "views": [
      {
       "cell_index": 0
      }
     ]
    },
    "fd48f1f899bf4f84be396f4e1f1daa2c": {
     "views": [
      {
       "cell_index": 0
      }
     ]
    },
    "fdc2e8bc35184caca488105cdd59e9ef": {
     "views": [
      {
       "cell_index": 0
      }
     ]
    },
    "ffce37ca4f8548fe98bcf958c7d3985a": {
     "views": [
      {
       "cell_index": 0
      }
     ]
    },
    "ffd1aaf4798f498ca64829f2f82a2abd": {
     "views": [
      {
       "cell_index": 0
      }
     ]
    }
   },
   "version": "1.2.0"
  }
 },
 "nbformat": 4,
 "nbformat_minor": 1
}
