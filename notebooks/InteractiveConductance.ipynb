{
 "cells": [
  {
   "cell_type": "code",
   "execution_count": 3,
   "metadata": {
    "collapsed": false,
    "scrolled": false
   },
   "outputs": [
    {
     "name": "stdout",
     "output_type": "stream",
     "text": [
      "Populating the interactive namespace from numpy and matplotlib\n"
     ]
    }
   ],
   "source": [
    "%pylab inline\n",
    "import numpy as np\n",
    "import matplotlib.pyplot as plt\n",
    "from ovationpyme.ovation_prime import ConductanceEstimator\n",
    "from ovationpyme.ovation_utilities import calc_avg_solarwind\n",
    "from ovationpyme.ovation_plotting import latlt2polar,polar2dial,pcolor_flux\n",
    "import ipywidgets\n",
    "from collections import OrderedDict\n",
    "from functools import partial\n",
    "\n",
    "auroral_types = ['diff','mono','wave']\n",
    "\n",
    "def plot_date_fluxes_callback(clicked_button,widgets):\n",
    "    f = plt.figure(figsize=(12,12),dpi=150)\n",
    "    axpN = f.add_subplot(221,projection='polar')\n",
    "    axpS = f.add_subplot(222,projection='polar')\n",
    "    axhN = f.add_subplot(223,projection='polar')\n",
    "    axhS = f.add_subplot(224,projection='polar')\n",
    "    atypes = widgets['atype_select'].value\n",
    "    bincorrect = widgets['bincorrect_toggle'].value\n",
    "    solar_conductance = widgets['solar_toggle'].value\n",
    "    nflux_threshold = widgets['nflux_thresh_float'].value\n",
    "    eavg_threshold = widgets['eavg_thresh_float'].value\n",
    "    manual_f107 = widgets['f107_float'].value\n",
    "    manual_newell = widgets['newell_float'].value\n",
    "    year = widgets['year'].value\n",
    "    month = widgets['month'].value\n",
    "    day = widgets['day'].value\n",
    "    hour = widgets['hour'].value\n",
    "    minute = widgets['minute'].value\n",
    "    dt = datetime.datetime(year,month,day,hour,minute)\n",
    "    start_dt=dt-datetime.timedelta(days=1)\n",
    "    end_dt=dt+datetime.timedelta(days=1)\n",
    "    dtstr = dt.strftime('%Y%m%d %H:%M')\n",
    "    estimator = ConductanceEstimator(start_dt,end_dt,fluxtypes=atypes)\n",
    "    if manual_newell != -1:\n",
    "        for nfest,eavest in zip(estimator.nflux_estimator,estimator.eavg_estimator):\n",
    "            nfest._dF = manual_newell\n",
    "            eavest._dF = manual_newell\n",
    "    if manual_f107 != -1:\n",
    "        estimator._f107 = manual_f107\n",
    "    get_cond_kwargs = {'solar':solar_conductance,\n",
    "                        'background_p':0.1,'background_h':0.1,\n",
    "                        'conductance_fluxtypes':atypes,\n",
    "                        'interp_bad_bins':bincorrect,\n",
    "                        'return_dF':True,'return_f107':True,\n",
    "                        'dnflux_bad_thresh':nflux_threshold,\n",
    "                        'deavg_bad_thresh':eavg_threshold}\n",
    "    condtupleN = estimator.get_conductance(dt,hemi='N',**get_cond_kwargs)\n",
    "    mlatgridN,mltgridN,pedgridN,hallgridN,newell_coupling,f107 = condtupleN\n",
    "    condtupleS = estimator.get_conductance(dt,hemi='S',**get_cond_kwargs)\n",
    "    mlatgridS,mltgridS,pedgridS,hallgridS,newell_coupling,f107 = condtupleS\n",
    "    pcolor_kwargs = {'cmap':'gnuplot','alpha':1.0}\n",
    "    manual_vmin = wgts['vmin_float'].value\n",
    "    if manual_vmin != -1.:\n",
    "        pcolor_kwargs['vmin']=manual_vmin\n",
    "    manual_vmax = wgts['vmax_float'].value\n",
    "    if manual_vmax != -1.:\n",
    "        pcolor_kwargs['vmax']=manual_vmax\n",
    "    mappablepN = pcolor_flux(axpN,mlatgridN,mltgridN,pedgridN,'N',**pcolor_kwargs)\n",
    "    mappablepS = pcolor_flux(axpS,mlatgridS,mltgridS,pedgridS,'S',**pcolor_kwargs)\n",
    "    mappablehN = pcolor_flux(axhN,mlatgridN,mltgridN,hallgridN,'N',**pcolor_kwargs)\n",
    "    mappablehS = pcolor_flux(axhS,mlatgridS,mltgridS,hallgridS,'S',**pcolor_kwargs)\n",
    "    f.colorbar(mappablepN,ax=axpN,label='Pedersen [Mho]')\n",
    "    f.colorbar(mappablepS,ax=axpS,label='Pedersen [Mho]')\n",
    "    f.colorbar(mappablehN,ax=axhN,label='Hall [Mho]')\n",
    "    f.colorbar(mappablehS,ax=axhS,label='Hall [Mho]')\n",
    "    axpN.set_title('Northern Hemisphere\\nPedersen Conductance')\n",
    "    axpS.set_title('Southern Hemisphere\\nPedersen Conductance')\n",
    "    axhN.set_title('Northern Hemisphere\\nHall Conductance')\n",
    "    axhS.set_title('Southern Hemisphere\\nHall Conductance')\n",
    "    polar2dial(axpN)\n",
    "    polar2dial(axpS)\n",
    "    polar2dial(axhN)\n",
    "    polar2dial(axhS)\n",
    "    \n",
    "    f.suptitle(('(%s):\\n' % (dtstr)\n",
    "               +'Newell_coupling: %.1f\\n' % (newell_coupling)\n",
    "               +'F10.7: %.1f\\n' % (f107)))\n",
    "    plt.show()\n",
    "    \n",
    "\n",
    "wgts = OrderedDict()\n",
    "wgts['year']=ipywidgets.IntText(description='Year',value=2010)\n",
    "wgts['month']=ipywidgets.IntText(description='Month',value=5)\n",
    "wgts['day']=ipywidgets.IntText(description='Day',value=29)\n",
    "wgts['hour']=ipywidgets.IntText(description='Hour',value=12)\n",
    "wgts['minute']=ipywidgets.IntText(description='Minute',value=0)\n",
    "wgts['atype_label']=ipywidgets.Label(value='Type(s) of Aurora Used To Calculate Conductance')\n",
    "wgts['atype_select']=ipywidgets.SelectMultiple(value=['diff'],options=auroral_types,description='[Ctrl+Click] Selects Multiple')\n",
    "wgts['bincorrect_toggle']=ipywidgets.ToggleButton(description='Correction',value=True)\n",
    "wgts['threshold_label']=ipywidgets.Label(value='Correction removes bins with change > threshold versus neighbors')\n",
    "wgts['nflux_thresh_float']=ipywidgets.FloatSlider(value=1e8,min=1e7,max=1e9,step=1e6,\n",
    "                                               description='Number Flux Threshold',\n",
    "                                               readout=True,readout_format='.1e')\n",
    "wgts['eavg_thresh_float']=ipywidgets.FloatSlider(value=.3,min=.03,max=3,step=0.1,\n",
    "                                               description='Average Energy Threshold:',\n",
    "                                               readout=True,readout_format='.1f')\n",
    "wgts['solar_toggle']=ipywidgets.ToggleButton(description='Solar Conductance',value=True)\n",
    "wgts['newell_float']=ipywidgets.FloatText(description='Newell Coupling (-1 to use date)',value=-1)\n",
    "wgts['f107_float']=ipywidgets.FloatText(description='F10.7 (-1 to use date)',value=-1)\n",
    "wgts['vmin_float']=ipywidgets.FloatText(description='Colorbar Min (-1 is Autoscale)',value=-1)\n",
    "wgts['vmax_float']=ipywidgets.FloatText(description='Colorbar Max (-1 is Autoscale)',value=-1)\n",
    "wgts['run_button'] = ipywidgets.Button(description='Calculate')\n",
    "wgts['run_button'].on_click(partial(plot_date_fluxes_callback,widgets=wgts))\n",
    "\n",
    "for widget_name,widget in wgts.iteritems():\n",
    "    display(widget)"
   ]
  },
  {
   "cell_type": "code",
   "execution_count": 2,
   "metadata": {
    "collapsed": false
   },
   "outputs": [
    {
     "ename": "AttributeError",
     "evalue": "'module' object has no attribute 'F'",
     "output_type": "error",
     "traceback": [
      "\u001b[0;31m---------------------------------------------------------------------------\u001b[0m",
      "\u001b[0;31mAttributeError\u001b[0m                            Traceback (most recent call last)",
      "\u001b[0;32m<ipython-input-2-0083fabf44fc>\u001b[0m in \u001b[0;36m<module>\u001b[0;34m()\u001b[0m\n\u001b[0;32m----> 1\u001b[0;31m \u001b[0mipywidgets\u001b[0m\u001b[0;34m.\u001b[0m\u001b[0mF\u001b[0m\u001b[0;34m\u001b[0m\u001b[0m\n\u001b[0m",
      "\u001b[0;31mAttributeError\u001b[0m: 'module' object has no attribute 'F'"
     ]
    }
   ],
   "source": [
    "ipywidgets.F"
   ]
  }
 ],
 "metadata": {
  "anaconda-cloud": {},
  "kernelspec": {
   "display_name": "Python 2",
   "language": "python",
   "name": "python2"
  },
  "language_info": {
   "codemirror_mode": {
    "name": "ipython",
    "version": 2
   },
   "file_extension": ".py",
   "mimetype": "text/x-python",
   "name": "python",
   "nbconvert_exporter": "python",
   "pygments_lexer": "ipython2",
   "version": "2.7.13"
  }
 },
 "nbformat": 4,
 "nbformat_minor": 1
}
